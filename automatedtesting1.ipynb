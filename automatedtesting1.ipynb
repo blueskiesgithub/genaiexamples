{
 "cells": [
  {
   "cell_type": "code",
   "execution_count": 1,
   "metadata": {
    "colab": {
     "base_uri": "https://localhost:8080/"
    },
    "executionInfo": {
     "elapsed": 308,
     "status": "ok",
     "timestamp": 1723058021561,
     "user": {
      "displayName": "Lucas Coutinho",
      "userId": "17134509355433454861"
     },
     "user_tz": 180
    },
    "id": "ndhsWhnGuY7c",
    "outputId": "4adfb72b-ad61-4b9b-d443-d0e3d8b4fd43"
   },
   "outputs": [
    {
     "name": "stdout",
     "output_type": "stream",
     "text": [
      "Writing tasks.py\n"
     ]
    }
   ],
   "source": [
    "%%file tasks.py\n",
    "import pytest\n",
    "tasks = []\n",
    "\n",
    "def add_task(task):\n",
    "    tasks.append(task)\n",
    "    return tasks\n",
    "\n",
    "def remove_task(task):\n",
    "    if task in tasks:\n",
    "        tasks.remove(task)\n",
    "        return tasks\n",
    "    else:\n",
    "        return \"Task not found.\"\n",
    "\n",
    "def list_tasks():\n",
    "    return tasks\n",
    "\n",
    "def clear_tasks():\n",
    "    tasks.clear()\n",
    "    return \"Tasks cleared.\"\n",
    "\n",
    "def test_add_task():\n",
    "    clear_tasks()\n",
    "    assert add_task('Buy groceries') == ['Buy groceries']\n",
    "    assert add_task('Read a book') == ['Buy groceries', 'Read a book']\n",
    "    clear_tasks()\n",
    "\n",
    "def test_list_tasks():\n",
    "    clear_tasks()\n",
    "    assert list_tasks() == []\n",
    "    add_task('Buy groceries')\n",
    "    assert list_tasks() == ['Buy groceries']\n",
    "    add_task('Go for a run')\n",
    "    assert list_tasks() == ['Buy groceries', 'Go for a run']\n",
    "    clear_tasks()\n",
    "\n",
    "@pytest.mark.parametrize(\"task, expected\", [\n",
    "    ('Buy groceries', ['Buy groceries']),\n",
    "    ('Read a book', ['Buy groceries', 'Read a book']),\n",
    "    ('Exercise', ['Buy groceries', 'Read a book', 'Exercise'])\n",
    "])\n",
    "def test_add_task_param(task, expected):\n",
    "    assert add_task(task) == expected\n",
    "\n",
    "\n"
   ]
  },
  {
   "cell_type": "code",
   "execution_count": 2,
   "metadata": {
    "colab": {
     "base_uri": "https://localhost:8080/"
    },
    "executionInfo": {
     "elapsed": 1151,
     "status": "ok",
     "timestamp": 1723058027813,
     "user": {
      "displayName": "Lucas Coutinho",
      "userId": "17134509355433454861"
     },
     "user_tz": 180
    },
    "id": "MYnYKJOmuvVo",
    "outputId": "2c489eb9-7801-47a2-9aaa-a64a5edbf804"
   },
   "outputs": [
    {
     "name": "stdout",
     "output_type": "stream",
     "text": [
      "\u001b[1m============================= test session starts =============================\u001b[0m\n",
      "platform win32 -- Python 3.12.4, pytest-7.4.4, pluggy-1.0.0\n",
      "rootdir: C:\\Users\\patil\\Downloads\n",
      "plugins: anyio-4.2.0\n",
      "collected 5 items\n",
      "\n",
      "tasks.py \u001b[32m.\u001b[0m\u001b[32m.\u001b[0m\u001b[32m.\u001b[0m\u001b[32m.\u001b[0m\u001b[32m.\u001b[0m\u001b[32m                                                           [100%]\u001b[0m\n",
      "\n",
      "\u001b[32m============================== \u001b[32m\u001b[1m5 passed\u001b[0m\u001b[32m in 0.03s\u001b[0m\u001b[32m ==============================\u001b[0m\n"
     ]
    }
   ],
   "source": [
    "!pytest tasks.py"
   ]
  },
  {
   "cell_type": "code",
   "execution_count": null,
   "metadata": {
    "id": "3ZqC-Y4HQvcZ"
   },
   "outputs": [],
   "source": []
  }
 ],
 "metadata": {
  "colab": {
   "provenance": []
  },
  "kernelspec": {
   "display_name": "Python 3 (ipykernel)",
   "language": "python",
   "name": "python3"
  },
  "language_info": {
   "codemirror_mode": {
    "name": "ipython",
    "version": 3
   },
   "file_extension": ".py",
   "mimetype": "text/x-python",
   "name": "python",
   "nbconvert_exporter": "python",
   "pygments_lexer": "ipython3",
   "version": "3.12.4"
  }
 },
 "nbformat": 4,
 "nbformat_minor": 4
}
