{
 "cells": [
  {
   "cell_type": "code",
   "execution_count": 1,
   "id": "f6618829-6613-406f-b5e1-ed87dab4acae",
   "metadata": {},
   "outputs": [
    {
     "name": "stderr",
     "output_type": "stream",
     "text": [
      "test_add_duplicate_task (__main__.TaskManagerTestCase.test_add_duplicate_task) ... ok\n",
      "test_add_task (__main__.TaskManagerTestCase.test_add_task) ... ok\n",
      "test_list_tasks (__main__.TaskManagerTestCase.test_list_tasks) ... ok\n",
      "test_remove_nonexistent_task (__main__.TaskManagerTestCase.test_remove_nonexistent_task) ... ok\n",
      "test_remove_task (__main__.TaskManagerTestCase.test_remove_task) ... ok\n",
      "test_remove_task_from_empty_list (__main__.TaskManagerTestCase.test_remove_task_from_empty_list) ... ok\n",
      "\n",
      "----------------------------------------------------------------------\n",
      "Ran 6 tests in 0.005s\n",
      "\n",
      "OK\n"
     ]
    }
   ],
   "source": [
    "import unittest\n",
    "\n",
    "# Task management functions\n",
    "tasks = []\n",
    "\n",
    "def add_task(task):\n",
    "    tasks.append(task)\n",
    "    return f\"Task '{task}' added.\"\n",
    "\n",
    "def remove_task(task):\n",
    "    if task in tasks:\n",
    "        tasks.remove(task)\n",
    "        return f\"Task '{task}' removed.\"\n",
    "    else:\n",
    "        return \"Task not found.\"\n",
    "\n",
    "def list_tasks():\n",
    "    return tasks\n",
    "\n",
    "# Unit tests\n",
    "class TaskManagerTestCase(unittest.TestCase):\n",
    "\n",
    "    def setUp(self):\n",
    "        # Reset the tasks list before each test\n",
    "        global tasks\n",
    "        tasks = []\n",
    "\n",
    "    def test_add_task(self):\n",
    "        result = add_task(\"Buy groceries\")\n",
    "        self.assertEqual(result, \"Task 'Buy groceries' added.\")\n",
    "        self.assertIn(\"Buy groceries\", tasks)\n",
    "\n",
    "    def test_remove_task(self):\n",
    "        add_task(\"Read a book\")\n",
    "        result = remove_task(\"Read a book\")\n",
    "        self.assertEqual(result, \"Task 'Read a book' removed.\")\n",
    "        self.assertNotIn(\"Read a book\", tasks)\n",
    "\n",
    "    def test_remove_nonexistent_task(self):\n",
    "        result = remove_task(\"Nonexistent task\")\n",
    "        self.assertEqual(result, \"Task not found.\")\n",
    "\n",
    "    def test_list_tasks(self):\n",
    "        add_task(\"Buy groceries\")\n",
    "        add_task(\"Read a book\")\n",
    "        result = list_tasks()\n",
    "        self.assertEqual(result, [\"Buy groceries\", \"Read a book\"])\n",
    "\n",
    "    def test_add_duplicate_task(self):\n",
    "        add_task(\"Buy groceries\")\n",
    "        add_task(\"Buy groceries\")\n",
    "        result = list_tasks()\n",
    "        self.assertEqual(result, [\"Buy groceries\", \"Buy groceries\"])\n",
    "\n",
    "    def test_remove_task_from_empty_list(self):\n",
    "        result = remove_task(\"Read a book\")\n",
    "        self.assertEqual(result, \"Task not found.\")\n",
    "\n",
    "if __name__ == '__main__':\n",
    "    # Create a test suite and add the test case\n",
    "    suite = unittest.TestLoader().loadTestsFromTestCase(TaskManagerTestCase)\n",
    "    # Run the test suite\n",
    "    unittest.TextTestRunner(verbosity=2).run(suite)"
   ]
  }
 ],
 "metadata": {
  "kernelspec": {
   "display_name": "Python 3 (ipykernel)",
   "language": "python",
   "name": "python3"
  },
  "language_info": {
   "codemirror_mode": {
    "name": "ipython",
    "version": 3
   },
   "file_extension": ".py",
   "mimetype": "text/x-python",
   "name": "python",
   "nbconvert_exporter": "python",
   "pygments_lexer": "ipython3",
   "version": "3.12.4"
  }
 },
 "nbformat": 4,
 "nbformat_minor": 5
}
