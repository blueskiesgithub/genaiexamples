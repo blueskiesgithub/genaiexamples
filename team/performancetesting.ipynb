{
 "cells": [
  {
   "cell_type": "code",
   "execution_count": 1,
   "metadata": {
    "executionInfo": {
     "elapsed": 188,
     "status": "ok",
     "timestamp": 1717883839717,
     "user": {
      "displayName": "Laurence Moroney",
      "userId": "17858265307580721507"
     },
     "user_tz": 420
    },
    "id": "62kqP_1Gylfo"
   },
   "outputs": [],
   "source": [
    "import time\n",
    "import timeit\n",
    "import cProfile\n",
    "def is_prime(n):\n",
    "    if n <= 1:\n",
    "        return False\n",
    "    for i in range(2, n):\n",
    "        if n % i == 0:\n",
    "            return False\n",
    "    return True\n",
    "\n",
    "def sum_of_primes_naive(numbers):\n",
    "    total = 0\n",
    "    for number in numbers:\n",
    "        if is_prime(number):\n",
    "            total += number\n",
    "    return total\n"
   ]
  },
  {
   "cell_type": "code",
   "execution_count": 2,
   "metadata": {
    "colab": {
     "base_uri": "https://localhost:8080/"
    },
    "executionInfo": {
     "elapsed": 41199,
     "status": "ok",
     "timestamp": 1717884269856,
     "user": {
      "displayName": "Laurence Moroney",
      "userId": "17858265307580721507"
     },
     "user_tz": 420
    },
    "id": "iMLK38E_1oxU",
    "outputId": "b803f404-401a-4488-faf2-9f6160ef64d4"
   },
   "outputs": [
    {
     "data": {
      "text/plain": [
       "454396537"
      ]
     },
     "execution_count": 2,
     "metadata": {},
     "output_type": "execute_result"
    }
   ],
   "source": [
    "# Generate a list of numbers\n",
    "numbers = list(range(1, 100000))\n",
    "sum_of_primes_naive(numbers)"
   ]
  },
  {
   "cell_type": "code",
   "execution_count": 3,
   "metadata": {
    "colab": {
     "base_uri": "https://localhost:8080/"
    },
    "executionInfo": {
     "elapsed": 40231,
     "status": "ok",
     "timestamp": 1717884310085,
     "user": {
      "displayName": "Laurence Moroney",
      "userId": "17858265307580721507"
     },
     "user_tz": 420
    },
    "id": "8gRZnb8G4P7O",
    "outputId": "a07f24d3-6576-4dd1-b8d8-50759ba48a6e"
   },
   "outputs": [
    {
     "name": "stdout",
     "output_type": "stream",
     "text": [
      "Execution time: 20.58848620000026 seconds\n"
     ]
    }
   ],
   "source": [
    "# Measure time using timeit\n",
    "execution_time = timeit.timeit('sum_of_primes_naive(numbers)', globals=globals(), number=1)\n",
    "print(f\"Execution time: {execution_time} seconds\")"
   ]
  },
  {
   "cell_type": "code",
   "execution_count": 4,
   "metadata": {
    "colab": {
     "base_uri": "https://localhost:8080/"
    },
    "executionInfo": {
     "elapsed": 11051,
     "status": "ok",
     "timestamp": 1717884017573,
     "user": {
      "displayName": "Laurence Moroney",
      "userId": "17858265307580721507"
     },
     "user_tz": 420
    },
    "id": "GTcItCtD0u3y",
    "outputId": "c4cb77c8-3ba8-4707-f944-f9ac21f8699c"
   },
   "outputs": [
    {
     "name": "stdout",
     "output_type": "stream",
     "text": [
      "Execution time for sum_of_primes: 20.554285499998514 seconds\n"
     ]
    }
   ],
   "source": [
    "get_user_time = timeit.timeit(lambda: sum_of_primes_naive(numbers), number=1)\n",
    "print(f\"Execution time for sum_of_primes: {get_user_time} seconds\")"
   ]
  },
  {
   "cell_type": "code",
   "execution_count": 5,
   "metadata": {
    "colab": {
     "base_uri": "https://localhost:8080/"
    },
    "executionInfo": {
     "elapsed": 52418,
     "status": "ok",
     "timestamp": 1717884599707,
     "user": {
      "displayName": "Laurence Moroney",
      "userId": "17858265307580721507"
     },
     "user_tz": 420
    },
    "id": "ANFvfM1iywwr",
    "outputId": "3fa5ccd1-ec51-4a37-cbde-660d09058f3b"
   },
   "outputs": [
    {
     "name": "stdout",
     "output_type": "stream",
     "text": [
      "         100255 function calls (100249 primitive calls) in 21.421 seconds\n",
      "\n",
      "   Ordered by: standard name\n",
      "\n",
      "   ncalls  tottime  percall  cumtime  percall filename:lineno(function)\n",
      "        1    0.001    0.001    2.289    2.289 688565710.py:12(sum_of_primes_naive)\n",
      "    99999   21.402    0.000   21.402    0.000 688565710.py:4(is_prime)\n",
      "        1    0.000    0.000    2.289    2.289 <string>:1(<module>)\n",
      "        2    0.000    0.000    0.000    0.000 base_events.py:1905(_timer_handle_cancelled)\n",
      "        4    0.000    0.000   18.936    4.734 base_events.py:1910(_run_once)\n",
      "        8    0.000    0.000    0.000    0.000 base_events.py:2005(get_debug)\n",
      "        2    0.000    0.000    0.000    0.000 base_events.py:447(create_future)\n",
      "        4    0.000    0.000    0.000    0.000 base_events.py:539(_check_closed)\n",
      "       10    0.000    0.000    0.000    0.000 base_events.py:734(time)\n",
      "        2    0.000    0.000    0.000    0.000 base_events.py:743(call_later)\n",
      "        2    0.000    0.000    0.000    0.000 base_events.py:767(call_at)\n",
      "        2    0.000    0.000    0.000    0.000 base_events.py:785(call_soon)\n",
      "        2    0.000    0.000    0.000    0.000 base_events.py:814(_call_soon)\n",
      "        2    0.000    0.000    0.000    0.000 events.py:111(__init__)\n",
      "        2    0.000    0.000    0.000    0.000 events.py:155(cancel)\n",
      "        4    0.000    0.000    0.000    0.000 events.py:36(__init__)\n",
      "        2    0.000    0.000    0.000    0.000 events.py:72(cancel)\n",
      "        5    0.000    0.000    0.000    0.000 events.py:86(_run)\n",
      "        2    0.000    0.000    0.000    0.000 futures.py:311(_set_result_unless_cancelled)\n",
      "        1    0.000    0.000    0.000    0.000 history.py:839(_writeout_output_cache)\n",
      "        1    0.000    0.000    0.000    0.000 ioloop.py:742(_run_callback)\n",
      "        2    0.000    0.000    0.000    0.000 iostream.py:117(_run_event_pipe_gc)\n",
      "        2    0.000    0.000    0.000    0.000 iostream.py:126(_event_pipe_gc)\n",
      "        1    0.000    0.000    0.000    0.000 iostream.py:585(_flush)\n",
      "        1    0.000    0.000    0.000    0.000 iostream.py:678(_flush_buffer)\n",
      "        1    0.000    0.000    0.000    0.000 iostream.py:685(_rotate_buffer)\n",
      "        5    0.000    0.000    0.000    0.000 proactor_events.py:883(_process_events)\n",
      "        4    0.000    0.000    0.000    0.000 tasks.py:653(sleep)\n",
      "        6    0.000    0.000    0.000    0.000 threading.py:1153(_wait_for_tstate_lock)\n",
      "        6    0.000    0.000    0.000    0.000 threading.py:1220(is_alive)\n",
      "        1    0.000    0.000    0.000    0.000 threading.py:299(__enter__)\n",
      "        1    0.000    0.000    0.000    0.000 threading.py:308(_release_save)\n",
      "        1    0.000    0.000    0.000    0.000 threading.py:314(_is_owned)\n",
      "        6    0.000    0.000    0.000    0.000 threading.py:601(is_set)\n",
      "        1    0.000    0.000    0.000    0.000 traitlets.py:1512(_notify_trait)\n",
      "        1    0.000    0.000    0.000    0.000 traitlets.py:1523(notify_change)\n",
      "        1    0.000    0.000    0.000    0.000 traitlets.py:1527(_notify_observers)\n",
      "        2    0.000    0.000    0.000    0.000 traitlets.py:2304(validate)\n",
      "        2    0.000    0.000    0.000    0.000 traitlets.py:3474(validate)\n",
      "        2    0.000    0.000    0.000    0.000 traitlets.py:3486(validate_elements)\n",
      "        2    0.000    0.000    0.000    0.000 traitlets.py:3624(validate_elements)\n",
      "        2    0.000    0.000    0.000    0.000 traitlets.py:3631(set)\n",
      "        2    0.000    0.000    0.000    0.000 traitlets.py:629(get)\n",
      "        2    0.000    0.000    0.000    0.000 traitlets.py:676(__get__)\n",
      "        2    0.000    0.000    0.000    0.000 traitlets.py:689(set)\n",
      "        2    0.000    0.000    0.000    0.000 traitlets.py:708(__set__)\n",
      "        2    0.000    0.000    0.000    0.000 traitlets.py:718(_validate)\n",
      "        2    0.000    0.000    0.000    0.000 traitlets.py:727(_cross_validate)\n",
      "       14    0.000    0.000    0.000    0.000 typing.py:2173(cast)\n",
      "        4    0.000    0.000   18.935    4.734 windows_events.py:443(select)\n",
      "        4    0.015    0.004   18.935    4.734 windows_events.py:761(_poll)\n",
      "        2    0.000    0.000    0.000    0.000 {built-in method _asyncio.get_running_loop}\n",
      "        2    0.000    0.000    0.000    0.000 {built-in method _contextvars.copy_context}\n",
      "        3    0.000    0.000    0.000    0.000 {built-in method _heapq.heappop}\n",
      "        2    0.000    0.000    0.000    0.000 {built-in method _heapq.heappush}\n",
      "        4    0.003    0.001    0.003    0.001 {built-in method _overlapped.GetQueuedCompletionStatus}\n",
      "        1    0.000    0.000    0.000    0.000 {built-in method _thread.allocate_lock}\n",
      "        1    0.000    0.000    2.289    2.289 {built-in method builtins.exec}\n",
      "        5    0.000    0.000    0.000    0.000 {built-in method builtins.hasattr}\n",
      "        7    0.000    0.000    0.000    0.000 {built-in method builtins.isinstance}\n",
      "       12    0.000    0.000    0.000    0.000 {built-in method builtins.len}\n",
      "        3    0.000    0.000    0.000    0.000 {built-in method builtins.max}\n",
      "        3    0.000    0.000    0.000    0.000 {built-in method builtins.min}\n",
      "        5    0.000    0.000    0.000    0.000 {built-in method math.ceil}\n",
      "       10    0.000    0.000    0.000    0.000 {built-in method time.monotonic}\n",
      "        1    0.000    0.000    0.000    0.000 {method '__enter__' of '_thread.lock' objects}\n",
      "        1    0.000    0.000    0.000    0.000 {method '__exit__' of '_thread.RLock' objects}\n",
      "        4    0.000    0.000    0.000    0.000 {method '__exit__' of '_thread.lock' objects}\n",
      "        2    0.000    0.000    0.000    0.000 {method '__exit__' of 'sqlite3.Connection' objects}\n",
      "      8/2    0.000    0.000    0.000    0.000 {method 'acquire' of '_thread.lock' objects}\n",
      "        6    0.000    0.000    0.000    0.000 {method 'append' of 'collections.deque' objects}\n",
      "        2    0.000    0.000    0.000    0.000 {method 'cancelled' of '_asyncio.Future' objects}\n",
      "        5    0.000    0.000    0.000    0.000 {method 'clear' of 'list' objects}\n",
      "        1    0.000    0.000    0.000    0.000 {method 'close' of '_io.StringIO' objects}\n",
      "        1    0.000    0.000    0.000    0.000 {method 'disable' of '_lsprof.Profiler' objects}\n",
      "        2    0.000    0.000    0.000    0.000 {method 'extend' of 'list' objects}\n",
      "        4    0.000    0.000    0.000    0.000 {method 'get' of 'dict' objects}\n",
      "        1    0.000    0.000    0.000    0.000 {method 'getvalue' of '_io.StringIO' objects}\n",
      "        2    0.000    0.000    0.000    0.000 {method 'items' of 'dict' objects}\n",
      "        5    0.000    0.000    0.000    0.000 {method 'popleft' of 'collections.deque' objects}\n",
      "        1    0.000    0.000    0.000    0.000 {method 'release' of '_thread.lock' objects}\n",
      "        5    0.000    0.000    0.000    0.000 {method 'run' of '_contextvars.Context' objects}\n",
      "        2    0.000    0.000    0.000    0.000 {method 'set_result' of '_asyncio.Future' objects}\n",
      "\n",
      "\n"
     ]
    }
   ],
   "source": [
    "cProfile.run('sum_of_primes_naive(numbers)')"
   ]
  },
  {
   "cell_type": "code",
   "execution_count": 6,
   "metadata": {
    "colab": {
     "base_uri": "https://localhost:8080/"
    },
    "executionInfo": {
     "elapsed": 205,
     "status": "ok",
     "timestamp": 1717885644131,
     "user": {
      "displayName": "Laurence Moroney",
      "userId": "17858265307580721507"
     },
     "user_tz": 420
    },
    "id": "5mt_SJ74ymKS",
    "outputId": "57794678-538e-414a-89ce-d8f408a789ac"
   },
   "outputs": [
    {
     "name": "stdout",
     "output_type": "stream",
     "text": [
      "Optimized Implementation: Sum of primes = 454396537, Time taken = 0.045049190521240234 seconds\n"
     ]
    }
   ],
   "source": [
    "import math\n",
    "\n",
    "def is_prime_optimized(n):\n",
    "    if n <= 1:\n",
    "        return False\n",
    "    if n <= 3:\n",
    "        return True\n",
    "    if n % 2 == 0 or n % 3 == 0:\n",
    "        return False\n",
    "    i = 5\n",
    "    while i * i <= n:\n",
    "        if n % i == 0 or n % (i + 2) == 0:\n",
    "            return False\n",
    "        i += 6\n",
    "    return True\n",
    "\n",
    "def sum_of_primes_optimized(numbers):\n",
    "    total = 0\n",
    "    for number in numbers:\n",
    "        if is_prime_optimized(number):\n",
    "            total += number\n",
    "    return total\n",
    "\n",
    "# Measure the time taken by the optimized implementation\n",
    "start_time = time.time()\n",
    "total_optimized = sum_of_primes_optimized(numbers)\n",
    "print(f\"Optimized Implementation: Sum of primes = {total_optimized}, Time taken = {time.time() - start_time} seconds\")\n"
   ]
  },
  {
   "cell_type": "code",
   "execution_count": 7,
   "metadata": {
    "colab": {
     "base_uri": "https://localhost:8080/"
    },
    "executionInfo": {
     "elapsed": 205,
     "status": "ok",
     "timestamp": 1717885646713,
     "user": {
      "displayName": "Laurence Moroney",
      "userId": "17858265307580721507"
     },
     "user_tz": 420
    },
    "id": "hInww94b6IEU",
    "outputId": "2d0c27b9-0ee7-4d61-ed1e-7bb0cb4e69b8"
   },
   "outputs": [
    {
     "name": "stdout",
     "output_type": "stream",
     "text": [
      "Execution time for sum_of_primes: 0.04368450000038138 seconds\n"
     ]
    }
   ],
   "source": [
    "get_user_time = timeit.timeit(lambda: sum_of_primes_optimized(numbers), number=1)\n",
    "print(f\"Execution time for sum_of_primes: {get_user_time} seconds\")"
   ]
  },
  {
   "cell_type": "code",
   "execution_count": 8,
   "metadata": {
    "colab": {
     "base_uri": "https://localhost:8080/"
    },
    "executionInfo": {
     "elapsed": 477,
     "status": "ok",
     "timestamp": 1717885650015,
     "user": {
      "displayName": "Laurence Moroney",
      "userId": "17858265307580721507"
     },
     "user_tz": 420
    },
    "id": "9nJGMgs-y-YN",
    "outputId": "6f947452-01b8-4f4b-852e-6e8329ed6b44"
   },
   "outputs": [
    {
     "name": "stdout",
     "output_type": "stream",
     "text": [
      "         100004 function calls (100003 primitive calls) in 0.057 seconds\n",
      "\n",
      "   Ordered by: standard name\n",
      "\n",
      "   ncalls  tottime  percall  cumtime  percall filename:lineno(function)\n",
      "        1    0.002    0.002    0.011    0.011 2754683776.py:17(sum_of_primes_optimized)\n",
      "    99999    0.046    0.000    0.046    0.000 2754683776.py:3(is_prime_optimized)\n",
      "        1    0.009    0.009    0.057    0.057 <string>:1(<module>)\n",
      "      2/1    0.000    0.000    0.057    0.057 {built-in method builtins.exec}\n",
      "        1    0.000    0.000    0.000    0.000 {method 'disable' of '_lsprof.Profiler' objects}\n",
      "\n",
      "\n"
     ]
    }
   ],
   "source": [
    "cProfile.run('sum_of_primes_optimized(numbers)')"
   ]
  },
  {
   "cell_type": "code",
   "execution_count": 9,
   "metadata": {
    "colab": {
     "base_uri": "https://localhost:8080/"
    },
    "executionInfo": {
     "elapsed": 1068,
     "status": "ok",
     "timestamp": 1717882774096,
     "user": {
      "displayName": "Laurence Moroney",
      "userId": "17858265307580721507"
     },
     "user_tz": 420
    },
    "id": "wsyxgdMYyoEZ",
    "outputId": "cde1f184-602d-4b5d-e83a-d39de6ea6718"
   },
   "outputs": [
    {
     "name": "stdout",
     "output_type": "stream",
     "text": [
      "Naive Implementation: Sum of primes = 5736396, Time taken = 0.23957371711730957 seconds\n",
      "Optimized Implementation: Sum of primes = 5736396, Time taken = 0.0019996166229248047 seconds\n"
     ]
    }
   ],
   "source": [
    "import time\n",
    "import math\n",
    "\n",
    "# Naive primality check\n",
    "def is_prime(n):\n",
    "    if n <= 1:\n",
    "        return False\n",
    "    for i in range(2, n):\n",
    "        if n % i == 0:\n",
    "            return False\n",
    "    return True\n",
    "\n",
    "# Optimized primality check\n",
    "def is_prime_optimized(n):\n",
    "    if n <= 1:\n",
    "        return False\n",
    "    if n <= 3:\n",
    "        return True\n",
    "    if n % 2 == 0 or n % 3 == 0:\n",
    "        return False\n",
    "    i = 5\n",
    "    while i * i <= n:\n",
    "        if n % i == 0 or n % (i + 2) == 0:\n",
    "            return False\n",
    "        i += 6\n",
    "    return True\n",
    "\n",
    "# Naive sum of primes\n",
    "def sum_of_primes_naive(numbers):\n",
    "    total = 0\n",
    "    for number in numbers:\n",
    "        if is_prime(number):\n",
    "            total += number\n",
    "    return total\n",
    "\n",
    "# Optimized sum of primes\n",
    "def sum_of_primes_optimized(numbers):\n",
    "    total = 0\n",
    "    for number in numbers:\n",
    "        if is_prime_optimized(number):\n",
    "            total += number\n",
    "    return total\n",
    "\n",
    "# Generate a list of numbers\n",
    "numbers = list(range(1, 10000))\n",
    "\n",
    "# Measure the time taken by the naive implementation\n",
    "start_time = time.time()\n",
    "total_naive = sum_of_primes_naive(numbers)\n",
    "print(f\"Naive Implementation: Sum of primes = {total_naive}, Time taken = {time.time() - start_time} seconds\")\n",
    "\n",
    "# Measure the time taken by the optimized implementation\n",
    "start_time = time.time()\n",
    "total_optimized = sum_of_primes_optimized(numbers)\n",
    "print(f\"Optimized Implementation: Sum of primes = {total_optimized}, Time taken = {time.time() - start_time} seconds\")\n"
   ]
  },
  {
   "cell_type": "code",
   "execution_count": 10,
   "metadata": {
    "colab": {
     "base_uri": "https://localhost:8080/"
    },
    "executionInfo": {
     "elapsed": 2063,
     "status": "ok",
     "timestamp": 1717882583699,
     "user": {
      "displayName": "Laurence Moroney",
      "userId": "17858265307580721507"
     },
     "user_tz": 420
    },
    "id": "lu3mWMkex-Jw",
    "outputId": "a94b3d35-21a7-4bde-97a0-7a5a15d5aeb6"
   },
   "outputs": [
    {
     "name": "stdout",
     "output_type": "stream",
     "text": [
      "Naive Matrix Multiplication Time: 0.4926908016204834 seconds\n"
     ]
    }
   ],
   "source": [
    "import time\n",
    "import numpy as np\n",
    "\n",
    "# Naive matrix multiplication\n",
    "def naive_matrix_multiply(A, B):\n",
    "    n = len(A)\n",
    "    C = [[0] * n for _ in range(n)]\n",
    "    for i in range(n):\n",
    "        for j in range(n):\n",
    "            for k in range(n):\n",
    "                C[i][j] += A[i][k] * B[k][j]\n",
    "    return C\n",
    "\n",
    "# Generate random matrices\n",
    "n = 200\n",
    "A = np.random.rand(n, n).tolist()\n",
    "B = np.random.rand(n, n).tolist()\n",
    "\n",
    "start_time = time.time()\n",
    "C_naive = naive_matrix_multiply(A, B)\n",
    "print(f\"Naive Matrix Multiplication Time: {time.time() - start_time} seconds\")\n"
   ]
  },
  {
   "cell_type": "code",
   "execution_count": 11,
   "metadata": {
    "colab": {
     "base_uri": "https://localhost:8080/"
    },
    "executionInfo": {
     "elapsed": 3582,
     "status": "ok",
     "timestamp": 1717882668756,
     "user": {
      "displayName": "Laurence Moroney",
      "userId": "17858265307580721507"
     },
     "user_tz": 420
    },
    "id": "iOhXSknWyOyf",
    "outputId": "78946b0f-a1aa-4a0b-c8f6-5f6761950a76"
   },
   "outputs": [
    {
     "name": "stdout",
     "output_type": "stream",
     "text": [
      "         230 function calls (227 primitive calls) in 0.491 seconds\n",
      "\n",
      "   Ordered by: standard name\n",
      "\n",
      "   ncalls  tottime  percall  cumtime  percall filename:lineno(function)\n",
      "        1    0.317    0.317    0.317    0.317 3358304666.py:5(naive_matrix_multiply)\n",
      "        1    0.000    0.000    0.000    0.000 <frozen abc>:121(__subclasscheck__)\n",
      "        2    0.000    0.000    0.000    0.000 <frozen importlib._bootstrap>:1390(_handle_fromlist)\n",
      "        1    0.000    0.000    0.318    0.318 <string>:1(<module>)\n",
      "        2    0.000    0.000    0.000    0.000 attrsettr.py:42(__getattr__)\n",
      "        2    0.000    0.000    0.000    0.000 attrsettr.py:65(_get_attr_opt)\n",
      "      2/1    0.000    0.000    0.000    0.000 base_events.py:1910(_run_once)\n",
      "        1    0.000    0.000    0.000    0.000 base_events.py:2005(get_debug)\n",
      "        4    0.000    0.000    0.000    0.000 base_events.py:734(time)\n",
      "        7    0.000    0.000    0.000    0.000 enum.py:1129(__new__)\n",
      "       12    0.000    0.000    0.000    0.000 enum.py:1544(_get_value)\n",
      "        1    0.000    0.000    0.000    0.000 enum.py:1551(__or__)\n",
      "        3    0.000    0.000    0.000    0.000 enum.py:1562(__and__)\n",
      "        7    0.000    0.000    0.000    0.000 enum.py:726(__call__)\n",
      "        2    0.000    0.000    0.000    0.000 events.py:86(_run)\n",
      "        1    0.000    0.000    0.000    0.000 history.py:839(_writeout_output_cache)\n",
      "        2    0.000    0.000    0.000    0.000 ioloop.py:742(_run_callback)\n",
      "        1    0.000    0.000    0.000    0.000 iostream.py:156(_handle_event)\n",
      "        1    0.000    0.000    0.000    0.000 iostream.py:585(_flush)\n",
      "        1    0.000    0.000    0.000    0.000 iostream.py:678(_flush_buffer)\n",
      "        1    0.000    0.000    0.000    0.000 iostream.py:685(_rotate_buffer)\n",
      "        2    0.000    0.000    0.000    0.000 proactor_events.py:883(_process_events)\n",
      "        1    0.000    0.000    0.000    0.000 queue.py:209(_qsize)\n",
      "        1    0.000    0.000    0.000    0.000 queue.py:97(empty)\n",
      "        1    0.000    0.000    0.000    0.000 socket.py:777(recv_multipart)\n",
      "        1    0.000    0.000    0.000    0.000 threading.py:299(__enter__)\n",
      "        1    0.000    0.000    0.000    0.000 threading.py:302(__exit__)\n",
      "        1    0.000    0.000    0.000    0.000 threading.py:308(_release_save)\n",
      "        1    0.000    0.000    0.000    0.000 threading.py:314(_is_owned)\n",
      "        1    0.000    0.000    0.000    0.000 traitlets.py:1512(_notify_trait)\n",
      "        1    0.000    0.000    0.000    0.000 traitlets.py:1523(notify_change)\n",
      "        1    0.000    0.000    0.000    0.000 traitlets.py:1527(_notify_observers)\n",
      "        2    0.000    0.000    0.000    0.000 traitlets.py:2304(validate)\n",
      "        2    0.000    0.000    0.000    0.000 traitlets.py:3474(validate)\n",
      "        2    0.000    0.000    0.000    0.000 traitlets.py:3486(validate_elements)\n",
      "        2    0.000    0.000    0.000    0.000 traitlets.py:3624(validate_elements)\n",
      "        2    0.000    0.000    0.000    0.000 traitlets.py:3631(set)\n",
      "        2    0.000    0.000    0.000    0.000 traitlets.py:629(get)\n",
      "        2    0.000    0.000    0.000    0.000 traitlets.py:676(__get__)\n",
      "        2    0.000    0.000    0.000    0.000 traitlets.py:689(set)\n",
      "        2    0.000    0.000    0.000    0.000 traitlets.py:708(__set__)\n",
      "        2    0.000    0.000    0.000    0.000 traitlets.py:718(_validate)\n",
      "        2    0.000    0.000    0.000    0.000 traitlets.py:727(_cross_validate)\n",
      "        1    0.000    0.000    0.000    0.000 typing.py:1212(__instancecheck__)\n",
      "        2    0.000    0.000    0.000    0.000 typing.py:1276(__hash__)\n",
      "        1    0.000    0.000    0.000    0.000 typing.py:1483(__subclasscheck__)\n",
      "       15    0.000    0.000    0.000    0.000 typing.py:2173(cast)\n",
      "        3    0.000    0.000    0.000    0.000 typing.py:392(inner)\n",
      "        1    0.000    0.000    0.000    0.000 windows_events.py:429(_check_closed)\n",
      "        2    0.000    0.000    0.126    0.063 windows_events.py:443(select)\n",
      "        1    0.000    0.000    0.000    0.000 windows_events.py:55(__init__)\n",
      "        1    0.000    0.000    0.000    0.000 windows_events.py:714(_register)\n",
      "        2    0.000    0.000    0.126    0.063 windows_events.py:761(_poll)\n",
      "        2    0.000    0.000    0.000    0.000 zmqstream.py:562(receiving)\n",
      "        1    0.000    0.000    0.000    0.000 zmqstream.py:566(sending)\n",
      "        1    0.000    0.000    0.000    0.000 zmqstream.py:580(_run_callback)\n",
      "        1    0.000    0.000    0.000    0.000 zmqstream.py:607(_handle_events)\n",
      "        1    0.000    0.000    0.000    0.000 zmqstream.py:648(_handle_recv)\n",
      "        1    0.000    0.000    0.000    0.000 zmqstream.py:687(_rebuild_io_state)\n",
      "        1    0.000    0.000    0.000    0.000 zmqstream.py:710(_update_handler)\n",
      "        1    0.000    0.000    0.000    0.000 zmqstream.py:718(<lambda>)\n",
      "        1    0.000    0.000    0.000    0.000 {built-in method _abc._abc_subclasscheck}\n",
      "        1    0.000    0.000    0.000    0.000 {built-in method _heapq.heappop}\n",
      "        2    0.126    0.063    0.126    0.063 {built-in method _overlapped.GetQueuedCompletionStatus}\n",
      "        1    0.000    0.000    0.000    0.000 {built-in method _thread.allocate_lock}\n",
      "        1    0.000    0.000    0.318    0.318 {built-in method builtins.exec}\n",
      "        2    0.000    0.000    0.000    0.000 {built-in method builtins.getattr}\n",
      "        7    0.000    0.000    0.000    0.000 {built-in method builtins.hasattr}\n",
      "        2    0.000    0.000    0.000    0.000 {built-in method builtins.hash}\n",
      "    32/30    0.000    0.000    0.000    0.000 {built-in method builtins.isinstance}\n",
      "        1    0.000    0.000    0.000    0.000 {built-in method builtins.issubclass}\n",
      "       10    0.000    0.000    0.000    0.000 {built-in method builtins.len}\n",
      "        2    0.000    0.000    0.000    0.000 {built-in method builtins.max}\n",
      "        2    0.000    0.000    0.000    0.000 {built-in method builtins.min}\n",
      "        3    0.000    0.000    0.000    0.000 {built-in method math.ceil}\n",
      "        4    0.000    0.000    0.000    0.000 {built-in method time.monotonic}\n",
      "        1    0.000    0.000    0.000    0.000 {method '__enter__' of '_thread.lock' objects}\n",
      "        2    0.000    0.000    0.000    0.000 {method '__exit__' of '_thread.RLock' objects}\n",
      "        3    0.000    0.000    0.000    0.000 {method '__exit__' of '_thread.lock' objects}\n",
      "        2    0.047    0.023    0.047    0.023 {method '__exit__' of 'sqlite3.Connection' objects}\n",
      "        1    0.000    0.000    0.000    0.000 {method '_acquire_restore' of '_thread.RLock' objects}\n",
      "        2    0.000    0.000    0.000    0.000 {method 'acquire' of '_thread.lock' objects}\n",
      "        1    0.000    0.000    0.000    0.000 {method 'add_done_callback' of '_asyncio.Future' objects}\n",
      "        2    0.000    0.000    0.000    0.000 {method 'append' of 'collections.deque' objects}\n",
      "        2    0.000    0.000    0.000    0.000 {method 'clear' of 'list' objects}\n",
      "        1    0.000    0.000    0.000    0.000 {method 'close' of '_io.StringIO' objects}\n",
      "        1    0.000    0.000    0.000    0.000 {method 'disable' of '_lsprof.Profiler' objects}\n",
      "        2    0.000    0.000    0.000    0.000 {method 'extend' of 'list' objects}\n",
      "        4    0.000    0.000    0.000    0.000 {method 'get' of 'dict' objects}\n",
      "        1    0.000    0.000    0.000    0.000 {method 'getvalue' of '_io.StringIO' objects}\n",
      "        2    0.000    0.000    0.000    0.000 {method 'popleft' of 'collections.deque' objects}\n",
      "        1    0.000    0.000    0.000    0.000 {method 'release' of '_thread.lock' objects}\n",
      "        2    0.000    0.000    0.000    0.000 {method 'run' of '_contextvars.Context' objects}\n",
      "        2    0.000    0.000    0.000    0.000 {method 'upper' of 'str' objects}\n",
      "\n",
      "\n"
     ]
    }
   ],
   "source": [
    "cProfile.run('naive_matrix_multiply(A, B)')"
   ]
  },
  {
   "cell_type": "code",
   "execution_count": 12,
   "metadata": {
    "colab": {
     "base_uri": "https://localhost:8080/"
    },
    "executionInfo": {
     "elapsed": 200,
     "status": "ok",
     "timestamp": 1717882600535,
     "user": {
      "displayName": "Laurence Moroney",
      "userId": "17858265307580721507"
     },
     "user_tz": 420
    },
    "id": "4uANWZQKyDAP",
    "outputId": "25e71d94-6d87-4473-90b0-f61ab3d2edbf"
   },
   "outputs": [
    {
     "name": "stdout",
     "output_type": "stream",
     "text": [
      "Optimized Matrix Multiplication Time: 0.035986900329589844 seconds\n"
     ]
    }
   ],
   "source": [
    "# Optimized matrix multiplication using NumPy\n",
    "start_time = time.time()\n",
    "C_optimized = np.dot(A, B)\n",
    "print(f\"Optimized Matrix Multiplication Time: {time.time() - start_time} seconds\")\n"
   ]
  },
  {
   "cell_type": "code",
   "execution_count": 13,
   "metadata": {
    "colab": {
     "base_uri": "https://localhost:8080/"
    },
    "executionInfo": {
     "elapsed": 1056,
     "status": "ok",
     "timestamp": 1717882264238,
     "user": {
      "displayName": "Laurence Moroney",
      "userId": "17858265307580721507"
     },
     "user_tz": 420
    },
    "id": "nhPutqv_s1c7",
    "outputId": "e99800f2-d9ee-40de-dc85-6c9b1b0b5d7c"
   },
   "outputs": [
    {
     "name": "stdout",
     "output_type": "stream",
     "text": [
      "Graph generation complete.\n"
     ]
    }
   ],
   "source": [
    "# Import necessary libraries\n",
    "import random\n",
    "import heapq\n",
    "import timeit\n",
    "import cProfile\n",
    "\n",
    "# Generate a large, sparse directed graph\n",
    "def generate_graph(num_nodes, max_edges_per_node):\n",
    "    graph = {i: [] for i in range(num_nodes)}\n",
    "    for i in range(num_nodes):\n",
    "        num_edges = min_edges_per_node + random.randint(1, (max_edges_per_node-min_edges_per_node))\n",
    "        for _ in range(num_edges):\n",
    "            target = random.randint(0, num_nodes - 1)\n",
    "            weight = int(random.uniform(1, 10))\n",
    "            graph[i].append((target, weight))\n",
    "    return graph\n",
    "\n",
    "# Create a graph with 1000 nodes and up to 10 edges per node\n",
    "num_nodes = 1000\n",
    "min_edges_per_node = 100\n",
    "max_edges_per_node = 900\n",
    "graph = generate_graph(num_nodes, max_edges_per_node)\n",
    "\n",
    "print(\"Graph generation complete.\")\n"
   ]
  },
  {
   "cell_type": "code",
   "execution_count": 14,
   "metadata": {
    "colab": {
     "base_uri": "https://localhost:8080/"
    },
    "executionInfo": {
     "elapsed": 210,
     "status": "ok",
     "timestamp": 1717882266396,
     "user": {
      "displayName": "Laurence Moroney",
      "userId": "17858265307580721507"
     },
     "user_tz": 420
    },
    "id": "Unoce-OEtD3Z",
    "outputId": "730cff43-c7b5-4c3c-dc88-6065fc30b57b"
   },
   "outputs": [
    {
     "name": "stderr",
     "output_type": "stream",
     "text": [
      "IOPub data rate exceeded.\n",
      "The Jupyter server will temporarily stop sending output\n",
      "to the client in order to avoid crashing it.\n",
      "To change this limit, set the config variable\n",
      "`--ServerApp.iopub_data_rate_limit`.\n",
      "\n",
      "Current values:\n",
      "ServerApp.iopub_data_rate_limit=1000000.0 (bytes/sec)\n",
      "ServerApp.rate_limit_window=3.0 (secs)\n",
      "\n"
     ]
    }
   ],
   "source": [
    "print(graph)"
   ]
  },
  {
   "cell_type": "code",
   "execution_count": 15,
   "metadata": {
    "colab": {
     "base_uri": "https://localhost:8080/"
    },
    "executionInfo": {
     "elapsed": 198,
     "status": "ok",
     "timestamp": 1717882272164,
     "user": {
      "displayName": "Laurence Moroney",
      "userId": "17858265307580721507"
     },
     "user_tz": 420
    },
    "id": "Ydub6Lfos4G5",
    "outputId": "75b7f6ba-a8c8-4748-ad2c-9510bfee923e"
   },
   "outputs": [
    {
     "name": "stdout",
     "output_type": "stream",
     "text": [
      "Testing Dijkstra's algorithm...\n",
      "Shortest path from 0 to 500: [0, 114, 500]\n",
      "Total distance: 2\n",
      "Testing Dijkstra's algorithm with different start and goal...\n",
      "Shortest path from 100 to 200: [100, 200]\n",
      "Total distance: 1\n",
      "Testing Dijkstra's algorithm with reversed start and goal...\n",
      "Shortest path from 999 to 0: [999, 565, 0]\n",
      "Total distance: 2\n"
     ]
    }
   ],
   "source": [
    "# Import necessary libraries\n",
    "import random\n",
    "import heapq\n",
    "import timeit\n",
    "import cProfile\n",
    "\n",
    "# Implement Dijkstra's algorithm\n",
    "def dijkstra(graph, start, goal):\n",
    "    queue = [(0, start)]\n",
    "    distances = {node: float('inf') for node in graph}\n",
    "    distances[start] = 0\n",
    "    previous_nodes = {node: None for node in graph}\n",
    "\n",
    "    while queue:\n",
    "        current_distance, current_node = heapq.heappop(queue)\n",
    "\n",
    "        if current_node == goal:\n",
    "            break\n",
    "\n",
    "        if current_distance > distances[current_node]:\n",
    "            continue\n",
    "\n",
    "        for neighbor, weight in graph[current_node]:\n",
    "            distance = current_distance + weight\n",
    "            if distance < distances[neighbor]:\n",
    "                distances[neighbor] = distance\n",
    "                previous_nodes[neighbor] = current_node\n",
    "                heapq.heappush(queue, (distance, neighbor))\n",
    "\n",
    "    path = []\n",
    "    current = goal\n",
    "    while current is not None:\n",
    "        path.append(current)\n",
    "        current = previous_nodes[current]\n",
    "    path.reverse()\n",
    "\n",
    "    if distances[goal] == float('inf'):\n",
    "        return [], float('inf')  # If there's no path to the goal\n",
    "\n",
    "    return path, distances[goal]\n",
    "\n",
    "# Test Dijkstra's algorithm with different start and goal nodes\n",
    "start_node = 0\n",
    "goal_node = 500  # Test with a different goal node\n",
    "\n",
    "print(\"Testing Dijkstra's algorithm...\")\n",
    "path, distance = dijkstra(graph, start_node, goal_node)\n",
    "print(f\"Shortest path from {start_node} to {goal_node}: {path}\")\n",
    "print(f\"Total distance: {distance}\")\n",
    "\n",
    "start_node = 100\n",
    "goal_node = 200  # Test with another different goal node\n",
    "\n",
    "print(\"Testing Dijkstra's algorithm with different start and goal...\")\n",
    "path, distance = dijkstra(graph, start_node, goal_node)\n",
    "print(f\"Shortest path from {start_node} to {goal_node}: {path}\")\n",
    "print(f\"Total distance: {distance}\")\n",
    "\n",
    "start_node = 999\n",
    "goal_node = 0  # Test with goal node at the start\n",
    "\n",
    "print(\"Testing Dijkstra's algorithm with reversed start and goal...\")\n",
    "path, distance = dijkstra(graph, start_node, goal_node)\n",
    "print(f\"Shortest path from {start_node} to {goal_node}: {path}\")\n",
    "print(f\"Total distance: {distance}\")\n"
   ]
  },
  {
   "cell_type": "code",
   "execution_count": 16,
   "metadata": {
    "colab": {
     "base_uri": "https://localhost:8080/"
    },
    "executionInfo": {
     "elapsed": 206,
     "status": "ok",
     "timestamp": 1717882287132,
     "user": {
      "displayName": "Laurence Moroney",
      "userId": "17858265307580721507"
     },
     "user_tz": 420
    },
    "id": "gxbRU_GTs7YV",
    "outputId": "d7b8c188-17f6-4e8d-db59-874f76c5b748"
   },
   "outputs": [
    {
     "name": "stdout",
     "output_type": "stream",
     "text": [
      "Execution time for Dijkstra's algorithm: 0.0019596999991335906 seconds\n"
     ]
    }
   ],
   "source": [
    "# Measure execution time of Dijkstra's algorithm\n",
    "dijkstra_time = timeit.timeit(lambda: dijkstra(graph, start_node, goal_node), number=1)\n",
    "print(f\"Execution time for Dijkstra's algorithm: {dijkstra_time} seconds\")\n"
   ]
  },
  {
   "cell_type": "code",
   "execution_count": 17,
   "metadata": {
    "colab": {
     "base_uri": "https://localhost:8080/"
    },
    "executionInfo": {
     "elapsed": 4232,
     "status": "ok",
     "timestamp": 1717882316542,
     "user": {
      "displayName": "Laurence Moroney",
      "userId": "17858265307580721507"
     },
     "user_tz": 420
    },
    "id": "e8o8ko2wtJwp",
    "outputId": "14ca63f7-eac8-4ad1-e15a-82a4fb7cc7be"
   },
   "outputs": [
    {
     "name": "stdout",
     "output_type": "stream",
     "text": [
      "Execution time for Dijkstra's algorithm: 0.025745 seconds\n",
      "Execution time for Dijkstra's algorithm: 0.007571 seconds\n",
      "Execution time for Dijkstra's algorithm: 0.020133 seconds\n",
      "Execution time for Dijkstra's algorithm: 0.010066 seconds\n",
      "Execution time for Dijkstra's algorithm: 0.019037 seconds\n",
      "Execution time for Dijkstra's algorithm: 0.010490 seconds\n",
      "Execution time for Dijkstra's algorithm: 0.013921 seconds\n",
      "Execution time for Dijkstra's algorithm: 0.007830 seconds\n",
      "Execution time for Dijkstra's algorithm: 0.006772 seconds\n",
      "Execution time for Dijkstra's algorithm: 0.024521 seconds\n",
      "Execution time for Dijkstra's algorithm: 0.016837 seconds\n",
      "Execution time for Dijkstra's algorithm: 0.016277 seconds\n",
      "Execution time for Dijkstra's algorithm: 0.017118 seconds\n",
      "Execution time for Dijkstra's algorithm: 0.001876 seconds\n",
      "Execution time for Dijkstra's algorithm: 0.008966 seconds\n",
      "Execution time for Dijkstra's algorithm: 0.016549 seconds\n",
      "Execution time for Dijkstra's algorithm: 0.001518 seconds\n",
      "Execution time for Dijkstra's algorithm: 0.018372 seconds\n",
      "Execution time for Dijkstra's algorithm: 0.020059 seconds\n",
      "Execution time for Dijkstra's algorithm: 0.003439 seconds\n",
      "Execution time for Dijkstra's algorithm: 0.012443 seconds\n",
      "Execution time for Dijkstra's algorithm: 0.005309 seconds\n",
      "Execution time for Dijkstra's algorithm: 0.022085 seconds\n",
      "Execution time for Dijkstra's algorithm: 0.008813 seconds\n",
      "Execution time for Dijkstra's algorithm: 0.014046 seconds\n",
      "Execution time for Dijkstra's algorithm: 0.000769 seconds\n",
      "Execution time for Dijkstra's algorithm: 0.011997 seconds\n",
      "Execution time for Dijkstra's algorithm: 0.009976 seconds\n",
      "Execution time for Dijkstra's algorithm: 0.020635 seconds\n",
      "Execution time for Dijkstra's algorithm: 0.021356 seconds\n",
      "Execution time for Dijkstra's algorithm: 0.014226 seconds\n",
      "Execution time for Dijkstra's algorithm: 0.011328 seconds\n",
      "Execution time for Dijkstra's algorithm: 0.000922 seconds\n",
      "Execution time for Dijkstra's algorithm: 0.010163 seconds\n",
      "Execution time for Dijkstra's algorithm: 0.019888 seconds\n",
      "Execution time for Dijkstra's algorithm: 0.018501 seconds\n",
      "Execution time for Dijkstra's algorithm: 0.022146 seconds\n",
      "Execution time for Dijkstra's algorithm: 0.009783 seconds\n",
      "Execution time for Dijkstra's algorithm: 0.019955 seconds\n",
      "Execution time for Dijkstra's algorithm: 0.010989 seconds\n",
      "Execution time for Dijkstra's algorithm: 0.005736 seconds\n",
      "Execution time for Dijkstra's algorithm: 0.001590 seconds\n",
      "Execution time for Dijkstra's algorithm: 0.008619 seconds\n",
      "Execution time for Dijkstra's algorithm: 0.004968 seconds\n",
      "Execution time for Dijkstra's algorithm: 0.024152 seconds\n",
      "Execution time for Dijkstra's algorithm: 0.021557 seconds\n",
      "Execution time for Dijkstra's algorithm: 0.023545 seconds\n",
      "Execution time for Dijkstra's algorithm: 0.013031 seconds\n",
      "Execution time for Dijkstra's algorithm: 0.003548 seconds\n",
      "Execution time for Dijkstra's algorithm: 0.010549 seconds\n",
      "Execution time for Dijkstra's algorithm: 0.006731 seconds\n",
      "Execution time for Dijkstra's algorithm: 0.015825 seconds\n",
      "Execution time for Dijkstra's algorithm: 0.018578 seconds\n",
      "Execution time for Dijkstra's algorithm: 0.012310 seconds\n",
      "Execution time for Dijkstra's algorithm: 0.003118 seconds\n",
      "Execution time for Dijkstra's algorithm: 0.023672 seconds\n",
      "Execution time for Dijkstra's algorithm: 0.020516 seconds\n",
      "Execution time for Dijkstra's algorithm: 0.004159 seconds\n",
      "Execution time for Dijkstra's algorithm: 0.018419 seconds\n",
      "Execution time for Dijkstra's algorithm: 0.021798 seconds\n",
      "Execution time for Dijkstra's algorithm: 0.020832 seconds\n",
      "Execution time for Dijkstra's algorithm: 0.016140 seconds\n",
      "Execution time for Dijkstra's algorithm: 0.012538 seconds\n",
      "Execution time for Dijkstra's algorithm: 0.003284 seconds\n",
      "Execution time for Dijkstra's algorithm: 0.013760 seconds\n",
      "Execution time for Dijkstra's algorithm: 0.000885 seconds\n",
      "Execution time for Dijkstra's algorithm: 0.021158 seconds\n",
      "Execution time for Dijkstra's algorithm: 0.006366 seconds\n",
      "Execution time for Dijkstra's algorithm: 0.009899 seconds\n",
      "Execution time for Dijkstra's algorithm: 0.002912 seconds\n",
      "Execution time for Dijkstra's algorithm: 0.011171 seconds\n",
      "Execution time for Dijkstra's algorithm: 0.009637 seconds\n",
      "Execution time for Dijkstra's algorithm: 0.011055 seconds\n",
      "Execution time for Dijkstra's algorithm: 0.017863 seconds\n",
      "Execution time for Dijkstra's algorithm: 0.026123 seconds\n",
      "Execution time for Dijkstra's algorithm: 0.023907 seconds\n",
      "Execution time for Dijkstra's algorithm: 0.009922 seconds\n",
      "Execution time for Dijkstra's algorithm: 0.018467 seconds\n",
      "Execution time for Dijkstra's algorithm: 0.014199 seconds\n",
      "Execution time for Dijkstra's algorithm: 0.006370 seconds\n",
      "Execution time for Dijkstra's algorithm: 0.001398 seconds\n",
      "Execution time for Dijkstra's algorithm: 0.023192 seconds\n",
      "Execution time for Dijkstra's algorithm: 0.006117 seconds\n",
      "Execution time for Dijkstra's algorithm: 0.010742 seconds\n",
      "Execution time for Dijkstra's algorithm: 0.022695 seconds\n",
      "Execution time for Dijkstra's algorithm: 0.016152 seconds\n",
      "Execution time for Dijkstra's algorithm: 0.011062 seconds\n",
      "Execution time for Dijkstra's algorithm: 0.012542 seconds\n",
      "Execution time for Dijkstra's algorithm: 0.007656 seconds\n",
      "Execution time for Dijkstra's algorithm: 0.001462 seconds\n",
      "Execution time for Dijkstra's algorithm: 0.013958 seconds\n",
      "Execution time for Dijkstra's algorithm: 0.002678 seconds\n",
      "Execution time for Dijkstra's algorithm: 0.008968 seconds\n",
      "Execution time for Dijkstra's algorithm: 0.010297 seconds\n",
      "Execution time for Dijkstra's algorithm: 0.023242 seconds\n",
      "Execution time for Dijkstra's algorithm: 0.024824 seconds\n",
      "Execution time for Dijkstra's algorithm: 0.008148 seconds\n",
      "Execution time for Dijkstra's algorithm: 0.007701 seconds\n",
      "Execution time for Dijkstra's algorithm: 0.004356 seconds\n",
      "Execution time for Dijkstra's algorithm: 0.020760 seconds\n"
     ]
    }
   ],
   "source": [
    "# Do 100 examples\n",
    "for i in range(100):\n",
    "    start_node = random.randint(0, num_nodes - 1)\n",
    "    goal_node = random.randint(0, num_nodes - 1)\n",
    "\n",
    "    # Measure the execution time of the Dijkstra's algorithm\n",
    "    start_time = timeit.default_timer()\n",
    "    path, distance = dijkstra(graph, start_node, goal_node)\n",
    "    end_time = timeit.default_timer()\n",
    "\n",
    "    dijkstra_time = end_time - start_time\n",
    "\n",
    "    print(f\"Execution time for Dijkstra's algorithm: {dijkstra_time:.6f} seconds\")\n",
    "    #print(f\"Shortest path from {start_node} to {goal_node}: {path}\")\n",
    "    #print(f\"Total distance: {distance}\")"
   ]
  },
  {
   "cell_type": "code",
   "execution_count": 18,
   "metadata": {
    "colab": {
     "base_uri": "https://localhost:8080/"
    },
    "executionInfo": {
     "elapsed": 3,
     "status": "ok",
     "timestamp": 1717882510013,
     "user": {
      "displayName": "Laurence Moroney",
      "userId": "17858265307580721507"
     },
     "user_tz": 420
    },
    "id": "2f1GQffpv-Kk",
    "outputId": "d46fe44b-a089-4276-c2cd-4fb7d04f5b5d"
   },
   "outputs": [
    {
     "name": "stdout",
     "output_type": "stream",
     "text": [
      "         3691 function calls (3689 primitive calls) in 0.019 seconds\n",
      "\n",
      "   Ordered by: standard name\n",
      "\n",
      "   ncalls  tottime  percall  cumtime  percall filename:lineno(function)\n",
      "        1    0.002    0.002    0.002    0.002 1916113701.py:8(dijkstra)\n",
      "        1    0.000    0.000    0.000    0.000 <frozen abc>:121(__subclasscheck__)\n",
      "        1    0.000    0.000    0.000    0.000 <frozen importlib._bootstrap>:1390(_handle_fromlist)\n",
      "        1    0.016    0.016    0.018    0.018 <string>:1(<module>)\n",
      "        1    0.000    0.000    0.000    0.000 _weakrefset.py:75(__contains__)\n",
      "        1    0.000    0.000    0.000    0.000 asyncio.py:225(add_callback)\n",
      "        1    0.000    0.000    0.000    0.000 asyncio.py:539(_start_select)\n",
      "        1    0.000    0.000    0.000    0.000 attrsettr.py:42(__getattr__)\n",
      "        1    0.000    0.000    0.000    0.000 attrsettr.py:65(_get_attr_opt)\n",
      "        2    0.000    0.000    0.000    0.000 base_events.py:2005(get_debug)\n",
      "        1    0.000    0.000    0.000    0.000 base_events.py:539(_check_closed)\n",
      "        1    0.000    0.000    0.000    0.000 base_events.py:785(call_soon)\n",
      "        1    0.000    0.000    0.000    0.000 base_events.py:814(_call_soon)\n",
      "       13    0.000    0.000    0.000    0.000 enum.py:1129(__new__)\n",
      "       36    0.000    0.000    0.000    0.000 enum.py:1544(_get_value)\n",
      "       10    0.000    0.000    0.000    0.000 enum.py:1551(__or__)\n",
      "        2    0.000    0.000    0.000    0.000 enum.py:1562(__and__)\n",
      "       13    0.000    0.000    0.000    0.000 enum.py:726(__call__)\n",
      "        1    0.000    0.000    0.000    0.000 events.py:36(__init__)\n",
      "        1    0.000    0.000    0.018    0.018 events.py:86(_run)\n",
      "        1    0.000    0.000    0.000    0.000 iostream.py:212(_is_master_process)\n",
      "        1    0.000    0.000    0.000    0.000 iostream.py:215(_check_mp_mode)\n",
      "        1    0.000    0.000    0.000    0.000 iostream.py:254(closed)\n",
      "        1    0.000    0.000    0.000    0.000 iostream.py:275(<lambda>)\n",
      "        1    0.000    0.000    0.000    0.000 iostream.py:277(_really_send)\n",
      "        1    0.000    0.000    0.000    0.000 queue.py:209(_qsize)\n",
      "        1    0.000    0.000    0.000    0.000 queue.py:97(empty)\n",
      "        1    0.000    0.000    0.000    0.000 queues.py:173(qsize)\n",
      "        1    0.000    0.000    0.000    0.000 queues.py:225(get)\n",
      "        1    0.000    0.000    0.000    0.000 queues.py:256(get_nowait)\n",
      "        1    0.000    0.000    0.000    0.000 queues.py:322(_consume_expired)\n",
      "        1    0.000    0.000    0.000    0.000 queues.py:59(_set_timeout)\n",
      "       11    0.000    0.000    0.000    0.000 socket.py:621(send)\n",
      "        1    0.000    0.000    0.000    0.000 socket.py:698(send_multipart)\n",
      "        1    0.000    0.000    0.000    0.000 threading.py:299(__enter__)\n",
      "        2    0.000    0.000    0.000    0.000 threading.py:302(__exit__)\n",
      "        1    0.000    0.000    0.000    0.000 threading.py:394(notify)\n",
      "        1    0.000    0.000    0.000    0.000 typing.py:1212(__instancecheck__)\n",
      "        1    0.000    0.000    0.000    0.000 typing.py:1483(__subclasscheck__)\n",
      "        1    0.000    0.000    0.000    0.000 windows_events.py:704(_register_with_iocp)\n",
      "        1    0.000    0.000    0.000    0.000 zmqstream.py:562(receiving)\n",
      "        1    0.000    0.000    0.000    0.000 zmqstream.py:566(sending)\n",
      "        1    0.000    0.000    0.000    0.000 zmqstream.py:687(_rebuild_io_state)\n",
      "        1    0.000    0.000    0.000    0.000 zmqstream.py:710(_update_handler)\n",
      "        1    0.000    0.000    0.000    0.000 {built-in method _abc._abc_subclasscheck}\n",
      "        1    0.000    0.000    0.000    0.000 {built-in method _asyncio.get_running_loop}\n",
      "        1    0.000    0.000    0.000    0.000 {built-in method _contextvars.copy_context}\n",
      "      840    0.001    0.000    0.001    0.000 {built-in method _heapq.heappop}\n",
      "     2620    0.001    0.000    0.001    0.000 {built-in method _heapq.heappush}\n",
      "        1    0.000    0.000    0.018    0.018 {built-in method builtins.exec}\n",
      "        1    0.000    0.000    0.000    0.000 {built-in method builtins.getattr}\n",
      "        1    0.000    0.000    0.000    0.000 {built-in method builtins.hasattr}\n",
      "    72/70    0.000    0.000    0.000    0.000 {built-in method builtins.isinstance}\n",
      "        1    0.000    0.000    0.000    0.000 {built-in method builtins.issubclass}\n",
      "        3    0.000    0.000    0.000    0.000 {built-in method builtins.len}\n",
      "        1    0.000    0.000    0.000    0.000 {built-in method nt.getpid}\n",
      "        1    0.000    0.000    0.000    0.000 {method '__enter__' of '_thread.RLock' objects}\n",
      "        2    0.000    0.000    0.000    0.000 {method '__exit__' of '_thread.RLock' objects}\n",
      "        1    0.000    0.000    0.000    0.000 {method '__exit__' of '_thread.lock' objects}\n",
      "        1    0.000    0.000    0.000    0.000 {method '_acquire_restore' of '_thread.RLock' objects}\n",
      "        1    0.000    0.000    0.000    0.000 {method '_is_owned' of '_thread.RLock' objects}\n",
      "        2    0.000    0.000    0.000    0.000 {method 'append' of 'collections.deque' objects}\n",
      "        3    0.000    0.000    0.000    0.000 {method 'append' of 'list' objects}\n",
      "        1    0.000    0.000    0.000    0.000 {method 'disable' of '_lsprof.Profiler' objects}\n",
      "        1    0.000    0.000    0.000    0.000 {method 'fileno' of '_socket.socket' objects}\n",
      "        2    0.000    0.000    0.000    0.000 {method 'keys' of 'dict' objects}\n",
      "        2    0.000    0.000    0.000    0.000 {method 'popleft' of 'collections.deque' objects}\n",
      "        1    0.000    0.000    0.000    0.000 {method 'release' of '_thread.lock' objects}\n",
      "        1    0.000    0.000    0.000    0.000 {method 'remove' of 'collections.deque' objects}\n",
      "        1    0.000    0.000    0.000    0.000 {method 'result' of '_asyncio.Future' objects}\n",
      "        1    0.000    0.000    0.000    0.000 {method 'reverse' of 'list' objects}\n",
      "        1    0.000    0.000    0.018    0.018 {method 'run' of '_contextvars.Context' objects}\n",
      "        1    0.000    0.000    0.000    0.000 {method 'upper' of 'str' objects}\n",
      "\n",
      "\n"
     ]
    }
   ],
   "source": [
    "#start_node = random.randint(0, num_nodes - 1)\n",
    "#goal_node = random.randint(0, num_nodes - 1)\n",
    "start_node = 1\n",
    "end_node = 20\n",
    "cProfile.run('dijkstra(graph, start_node, goal_node)')"
   ]
  },
  {
   "cell_type": "code",
   "execution_count": 19,
   "metadata": {
    "executionInfo": {
     "elapsed": 205,
     "status": "ok",
     "timestamp": 1717882430206,
     "user": {
      "displayName": "Laurence Moroney",
      "userId": "17858265307580721507"
     },
     "user_tz": 420
    },
    "id": "ZSXnk80ZwDjn"
   },
   "outputs": [],
   "source": [
    "# Implement Dijkstra's algorithm\n",
    "def faster_dijkstra(graph, start, goal):\n",
    "    queue = [(0, start)]\n",
    "    distances = {node: float('inf') for node in graph}\n",
    "    distances[start] = 0\n",
    "    previous_nodes = {node: None for node in graph}\n",
    "    visited = set()\n",
    "\n",
    "    while queue:\n",
    "        current_distance, current_node = heapq.heappop(queue)\n",
    "\n",
    "        if current_node in visited:\n",
    "            continue\n",
    "        visited.add(current_node)\n",
    "\n",
    "        if current_node == goal:\n",
    "            break\n",
    "\n",
    "        for neighbor, weight in graph[current_node]:\n",
    "            if neighbor in visited:\n",
    "                continue\n",
    "            distance = current_distance + weight\n",
    "            if distance < distances[neighbor]:\n",
    "                distances[neighbor] = distance\n",
    "                previous_nodes[neighbor] = current_node\n",
    "                heapq.heappush(queue, (distance, neighbor))\n",
    "\n",
    "    path = []\n",
    "    current = goal\n",
    "    while current is not None:\n",
    "        path.append(current)\n",
    "        current = previous_nodes[current]\n",
    "    path.reverse()\n",
    "\n",
    "    if distances[goal] == float('inf'):\n",
    "        return [], float('inf')  # If there's no path to the goal\n",
    "\n",
    "    return path, distances[goal]"
   ]
  },
  {
   "cell_type": "code",
   "execution_count": 20,
   "metadata": {
    "colab": {
     "base_uri": "https://localhost:8080/"
    },
    "executionInfo": {
     "elapsed": 218,
     "status": "ok",
     "timestamp": 1717882514583,
     "user": {
      "displayName": "Laurence Moroney",
      "userId": "17858265307580721507"
     },
     "user_tz": 420
    },
    "id": "aUMrBpEAxb_c",
    "outputId": "8e8d0356-01fd-4c2a-a06e-b5e322059361"
   },
   "outputs": [
    {
     "name": "stdout",
     "output_type": "stream",
     "text": [
      "         2830 function calls (2829 primitive calls) in 0.009 seconds\n",
      "\n",
      "   Ordered by: standard name\n",
      "\n",
      "   ncalls  tottime  percall  cumtime  percall filename:lineno(function)\n",
      "        1    0.003    0.003    0.004    0.004 1916113701.py:8(dijkstra)\n",
      "        1    0.004    0.004    0.009    0.009 <string>:1(<module>)\n",
      "      201    0.000    0.000    0.000    0.000 {built-in method _heapq.heappop}\n",
      "     2620    0.001    0.000    0.001    0.000 {built-in method _heapq.heappush}\n",
      "      2/1    0.000    0.000    0.009    0.009 {built-in method builtins.exec}\n",
      "        3    0.000    0.000    0.000    0.000 {method 'append' of 'list' objects}\n",
      "        1    0.000    0.000    0.000    0.000 {method 'disable' of '_lsprof.Profiler' objects}\n",
      "        1    0.000    0.000    0.000    0.000 {method 'reverse' of 'list' objects}\n",
      "\n",
      "\n"
     ]
    }
   ],
   "source": [
    "start_node = 1\n",
    "goal_node = 200\n",
    "cProfile.run('dijkstra(graph, start_node, goal_node)')"
   ]
  }
 ],
 "metadata": {
  "colab": {
   "authorship_tag": "ABX9TyNkrT5Jl+R5OS7nYZnRYW5j",
   "provenance": []
  },
  "kernelspec": {
   "display_name": "Python 3 (ipykernel)",
   "language": "python",
   "name": "python3"
  },
  "language_info": {
   "codemirror_mode": {
    "name": "ipython",
    "version": 3
   },
   "file_extension": ".py",
   "mimetype": "text/x-python",
   "name": "python",
   "nbconvert_exporter": "python",
   "pygments_lexer": "ipython3",
   "version": "3.12.4"
  }
 },
 "nbformat": 4,
 "nbformat_minor": 4
}
