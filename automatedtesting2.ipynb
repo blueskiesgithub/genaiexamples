{
 "cells": [
  {
   "cell_type": "code",
   "execution_count": 1,
   "metadata": {
    "colab": {
     "base_uri": "https://localhost:8080/"
    },
    "executionInfo": {
     "elapsed": 4,
     "status": "ok",
     "timestamp": 1721451396109,
     "user": {
      "displayName": "Laurence Moroney",
      "userId": "17858265307580721507"
     },
     "user_tz": 420
    },
    "id": "O6rnSo717R_H",
    "outputId": "3cf7c558-ee0d-4bdd-b119-616f9775c867"
   },
   "outputs": [
    {
     "name": "stdout",
     "output_type": "stream",
     "text": [
      "Overwriting tasks.py\n"
     ]
    }
   ],
   "source": [
    "%%file tasks.py\n",
    "import pytest\n",
    "\n",
    "tasks = []\n",
    "\n",
    "def add_task(task):\n",
    "    tasks.append(task)\n",
    "    return tasks\n",
    "\n",
    "def remove_task(task):\n",
    "    if task in tasks:\n",
    "        tasks.remove(task)\n",
    "        return tasks\n",
    "    else:\n",
    "        return \"Task not found.\"\n",
    "\n",
    "def list_tasks():\n",
    "    return tasks\n",
    "\n",
    "def clear_tasks():\n",
    "    tasks.clear()\n",
    "    return \"Tasks cleared.\"\n",
    "\n",
    "# Tests\n",
    "def test_add_task():\n",
    "    # Clear the tasks list before testing\n",
    "    clear_tasks()\n",
    "    assert add_task(\"Task 1\") == [\"Task 1\"]\n",
    "    assert add_task(\"Task 2\") == [\"Task 1\", \"Task 2\"]\n",
    "    assert add_task(\"Task 3\") == [\"Task 1\", \"Task 2\", \"Task 3\"]\n",
    "\n",
    "def test_remove_task():\n",
    "    # Clear the tasks list and add tasks for testing\n",
    "    clear_tasks()\n",
    "    add_task(\"Task 1\")\n",
    "    add_task(\"Task 2\")\n",
    "    add_task(\"Task 3\")\n",
    "\n",
    "    # Test removing existing tasks\n",
    "    assert remove_task(\"Task 2\") == [\"Task 1\", \"Task 3\"]\n",
    "    assert remove_task(\"Task 1\") == [\"Task 3\"]\n",
    "\n",
    "    # Test removing non-existent task\n",
    "    assert remove_task(\"Task 4\") == \"Task not found.\"\n",
    "    assert remove_task(\"Task 3\") == []\n",
    "\n",
    "def test_list_tasks():\n",
    "    # Clear the tasks list before testing\n",
    "    clear_tasks()\n",
    "\n",
    "    # Test listing tasks when list is empty\n",
    "    assert list_tasks() == []\n",
    "\n",
    "    # Add tasks and test listing\n",
    "    add_task(\"Task 1\")\n",
    "    add_task(\"Task 2\")\n",
    "    assert list_tasks() == [\"Task 1\", \"Task 2\"]\n",
    "\n",
    "def test_clear_tasks():\n",
    "    # Clear the tasks list before testing\n",
    "    clear_tasks()\n",
    "\n",
    "    # Add tasks for testing\n",
    "    add_task(\"Task 1\")\n",
    "    add_task(\"Task 2\")\n",
    "\n",
    "    # Test clearing tasks\n",
    "    assert clear_tasks() == \"Tasks cleared.\"\n",
    "    assert list_tasks() == []\n",
    "\n",
    "# Additional edge case tests\n",
    "def test_add_empty_task():\n",
    "    # Clear the tasks list before testing\n",
    "    clear_tasks()\n",
    "    assert add_task(\"\") == [\"\"]\n",
    "\n",
    "def test_remove_from_empty_list():\n",
    "    # Clear the tasks list before testing\n",
    "    clear_tasks()\n",
    "    assert remove_task(\"Non-existent task\") == \"Task not found.\"\n",
    "\n",
    "def test_add_duplicate_tasks():\n",
    "    # Clear the tasks list before testing\n",
    "    clear_tasks()\n",
    "    assert add_task(\"Task 1\") == [\"Task 1\"]\n",
    "    assert add_task(\"Task 1\") == [\"Task 1\", \"Task 1\"]\n",
    "    assert add_task(\"Task 2\") == [\"Task 1\", \"Task 1\", \"Task 2\"]\n",
    "\n",
    "\n"
   ]
  },
  {
   "cell_type": "code",
   "execution_count": 2,
   "metadata": {
    "colab": {
     "base_uri": "https://localhost:8080/"
    },
    "executionInfo": {
     "elapsed": 751,
     "status": "ok",
     "timestamp": 1721451416884,
     "user": {
      "displayName": "Laurence Moroney",
      "userId": "17858265307580721507"
     },
     "user_tz": 420
    },
    "id": "vbidqLTR7a1T",
    "outputId": "25344ef7-a069-4e3c-ccdc-33082b78e003"
   },
   "outputs": [
    {
     "name": "stdout",
     "output_type": "stream",
     "text": [
      "\u001b[1m============================= test session starts =============================\u001b[0m\n",
      "platform win32 -- Python 3.12.4, pytest-7.4.4, pluggy-1.0.0\n",
      "rootdir: C:\\Users\\patil\\Downloads\n",
      "plugins: anyio-4.2.0\n",
      "collected 7 items\n",
      "\n",
      "tasks.py \u001b[32m.\u001b[0m\u001b[32m.\u001b[0m\u001b[32m.\u001b[0m\u001b[32m.\u001b[0m\u001b[32m.\u001b[0m\u001b[32m.\u001b[0m\u001b[32m.\u001b[0m\u001b[32m                                                         [100%]\u001b[0m\n",
      "\n",
      "\u001b[32m============================== \u001b[32m\u001b[1m7 passed\u001b[0m\u001b[32m in 0.04s\u001b[0m\u001b[32m ==============================\u001b[0m\n"
     ]
    }
   ],
   "source": [
    "!pytest tasks.py"
   ]
  }
 ],
 "metadata": {
  "colab": {
   "authorship_tag": "ABX9TyNgxsCyzK3hJzckO662gW0m",
   "provenance": []
  },
  "kernelspec": {
   "display_name": "Python 3 (ipykernel)",
   "language": "python",
   "name": "python3"
  },
  "language_info": {
   "codemirror_mode": {
    "name": "ipython",
    "version": 3
   },
   "file_extension": ".py",
   "mimetype": "text/x-python",
   "name": "python",
   "nbconvert_exporter": "python",
   "pygments_lexer": "ipython3",
   "version": "3.12.4"
  }
 },
 "nbformat": 4,
 "nbformat_minor": 4
}
